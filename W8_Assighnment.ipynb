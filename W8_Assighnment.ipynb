{
 "cells": [
  {
   "cell_type": "markdown",
   "metadata": {},
   "source": [
    "# Quantum Stock Picking and Quantum Portfolio Optimization\n"
   ]
  },
  {
   "cell_type": "markdown",
   "metadata": {},
   "source": [
    "## Introduction\n",
    "\n",
    "This assignment will shows how we can use mean-variance optimization to pick stocks for a problem for $n$ assets:\n",
    "\n",
    "$$\\begin{aligned}\n",
    "\\min_{x \\in \\{0, 1\\}^n}  q x^T \\Sigma x - \\mu^T x\\\\\n",
    "\\text{subject to: } 1^T x = B\n",
    "\\end{aligned}$$\n",
    "\n",
    "where we use the following notation:\n",
    "\n",
    "- $x \\in \\{0, 1\\}^n$ denotes the vector of binary decision variables, which indicate which assets to pick ($x[i] = 1$) and which not to pick ($x[i] = 0$),\n",
    "- $\\mu \\in \\mathbb{R}^n$ defines the expected returns for the assets,\n",
    "- $\\Sigma \\in \\mathbb{R}^{n \\times n}$ specifies the covariances between the assets,\n",
    "- $q > 0$ controls the risk appetite of the decision maker,\n",
    "- and $B$ denotes the budget, i.e. the number of assets to be selected out of $n$.\n",
    "\n",
    "We assume the following simplifications:\n",
    "- all assets have the same price (normalized to 1),\n",
    "- the full budget $B$ has to be spent, i.e. one has to select exactly $B$ assets.\n",
    "\n",
    "The equality constraint $1^T x = B$ is mapped to a penalty term $(1^T x - B)^2$ which is scaled by a parameter and subtracted from the objective function. \n",
    "The resulting problem can be mapped to a Hamiltonian whose ground state corresponds to  the optimal solution.\n",
    "This notebook shows how to use the Variational Quantum Eigensolver (VQE) to find the optimal solution for a given set of parameters.\n",
    "\n",
    "Experiments on real quantum hardware for this problem are reported for instance in the following paper:\n",
    "<br>\n",
    "[Improving Variational Quantum Optimization using CVaR. Barkoutsos et al. 2019.](https://arxiv.org/abs/1907.04769)\n",
    "\n",
    "Note: We are not using CVaR as a portfolio statistic here, rather as a heuristic in our VQE procedure, curious students are encouraged to read the paper above."
   ]
  },
  {
   "cell_type": "markdown",
   "metadata": {},
   "source": [
    "#### To Students: Complete the following sections labeled todo"
   ]
  },
  {
   "cell_type": "code",
   "execution_count": 1,
   "metadata": {
    "ExecuteTime": {
     "end_time": "2020-07-13T20:35:05.710593Z",
     "start_time": "2020-07-13T20:34:57.647535Z"
    }
   },
   "outputs": [],
   "source": [
    "from qiskit import Aer\n",
    "from qiskit.algorithms import VQE, QAOA, NumPyMinimumEigensolver\n",
    "from qiskit.algorithms.optimizers import COBYLA\n",
    "from qiskit.circuit.library import TwoLocal\n",
    "from qiskit.utils import QuantumInstance\n",
    "from qiskit_finance.applications.optimization import PortfolioOptimization\n",
    "from qiskit_finance.data_providers import RandomDataProvider, YahooDataProvider\n",
    "from qiskit_optimization.algorithms import MinimumEigenOptimizer\n",
    "from qiskit_optimization.applications import OptimizationApplication\n",
    "from qiskit_optimization.converters import QuadraticProgramToQubo\n",
    "from qiskit.utils import algorithm_globals\n",
    "\n",
    "import numpy as np\n",
    "import matplotlib.pyplot as plt\n",
    "import datetime\n",
    "import pandas\n",
    "import pandas as pd\n",
    "\n",
    "def index_to_selection(i, num_assets):\n",
    "    s = \"{0:b}\".format(i).rjust(num_assets)\n",
    "    x = np.array([1 if s[i]=='1' else 0 for i in reversed(range(num_assets))])\n",
    "    return x\n",
    "\n",
    "def print_result(result):\n",
    "    selection = result.x\n",
    "    value = result.fval\n",
    "    print('Optimal: selection {}, value {:.4f}'.format(selection, value))\n",
    "    \n",
    "    eigenstate = result.min_eigen_solver_result.eigenstate\n",
    "    eigenvector = eigenstate if isinstance(eigenstate, np.ndarray) else eigenstate.to_matrix()\n",
    "    probabilities = np.abs(eigenvector)**2\n",
    "    i_sorted = reversed(np.argsort(probabilities))\n",
    "    print('\\n----------------- Full result ---------------------')\n",
    "    print('selection\\tvalue\\t\\tprobability')\n",
    "    print('---------------------------------------------------')\n",
    "    for i in i_sorted:\n",
    "        x = index_to_selection(i, num_assets)\n",
    "        value = QuadraticProgramToQubo().convert(qp).objective.evaluate(x)\n",
    "        #value = portfolio.to_quadratic_program().objective.evaluate(x)\n",
    "        probability = probabilities[i]\n",
    "        print('%10s\\t%.4f\\t\\t%.4f' %(x, value, probability))"
   ]
  },
  {
   "cell_type": "code",
   "execution_count": 2,
   "metadata": {},
   "outputs": [],
   "source": [
    "#global random seed used throuhgout\n",
    "seed = 123"
   ]
  },
  {
   "cell_type": "code",
   "execution_count": 3,
   "metadata": {
    "ExecuteTime": {
     "end_time": "2020-07-13T20:35:15.224327Z",
     "start_time": "2020-07-13T20:35:15.213892Z"
    }
   },
   "outputs": [],
   "source": [
    "# Generate expected return and covariance matrix from (random) time-series\n",
    "\n",
    "#Todo pick candidate stocks, 3-8 are recommended, stick to 4 if you're going to submit a real quantum experiment to IBM's cloud:\n",
    "\n",
    "stocks = ['IBM','AMD','ACN','NVDA','GOOGL','MSFT']\n",
    "\n",
    "# Here are some quantum themed stocks :) \n",
    "# ['IBM','AMD','ACN','NVDA','GOOGL','MSFT','AMZN','MU','BABA']\n",
    "# Feel free to pick any in this list or beyond\n",
    "    \n",
    "num_assets = len(stocks)\n",
    "\n",
    "#IBM has done us a favour and provided a cute data provider they designed.\n",
    "data = YahooDataProvider(tickers=stocks,\n",
    "                 start=pandas.Timestamp(2015,1,1),\n",
    "                 end=pandas.Timestamp.now())\n",
    "data.run()\n",
    "\n",
    "# Here we pull apart the IBM qiskit_finance.data_provider internals to retreive our data and format as a pandas DataFrame\n",
    "df = pandas.DataFrame({data._tickers[tidx]:data._data[tidx] for tidx in range(len(data._tickers))})\n",
    "\n",
    "# Provided by IBM\n",
    "mu = data.get_period_return_mean_vector()\n",
    "sigma = data.get_period_return_covariance_matrix()"
   ]
  },
  {
   "cell_type": "code",
   "execution_count": 4,
   "metadata": {
    "ExecuteTime": {
     "end_time": "2020-07-13T20:35:15.231767Z",
     "start_time": "2020-07-13T20:35:15.226490Z"
    }
   },
   "outputs": [
    {
     "data": {
      "text/plain": [
       "\\ This file has been generated by DOcplex\n",
       "\\ ENCODING=ISO-8859-1\n",
       "\\Problem name: Portfolio optimization\n",
       "\n",
       "Minimize\n",
       " obj: - 0.000134698721 x_0 - 0.003067398043 x_1 - 0.000981014017 x_2\n",
       "      - 0.002826157609 x_3 - 0.001104270424 x_4 - 0.001341654330 x_5 + [\n",
       "      0.000246031819 x_0^2 + 0.000328645296 x_0*x_1 + 0.000278135339 x_0*x_2\n",
       "      + 0.000318236972 x_0*x_3 + 0.000238494290 x_0*x_4 + 0.000266832039 x_0*x_5\n",
       "      + 0.001481014845 x_1^2 + 0.000361593246 x_1*x_2 + 0.001122190667 x_1*x_3\n",
       "      + 0.000400777133 x_1*x_4 + 0.000460746488 x_1*x_5 + 0.000224054022 x_2^2\n",
       "      + 0.000396295523 x_2*x_3 + 0.000292350954 x_2*x_4 + 0.000340237551 x_2*x_5\n",
       "      + 0.000812001108 x_3^2 + 0.000487696652 x_3*x_4 + 0.000566246329 x_3*x_5\n",
       "      + 0.000279295625 x_4^2 + 0.000412652064 x_4*x_5 + 0.000288451066 x_5^2 ]/2\n",
       "Subject To\n",
       " c0: x_0 + x_1 + x_2 + x_3 + x_4 + x_5 = 3\n",
       "\n",
       "Bounds\n",
       " 0 <= x_0 <= 1\n",
       " 0 <= x_1 <= 1\n",
       " 0 <= x_2 <= 1\n",
       " 0 <= x_3 <= 1\n",
       " 0 <= x_4 <= 1\n",
       " 0 <= x_5 <= 1\n",
       "\n",
       "Binaries\n",
       " x_0 x_1 x_2 x_3 x_4 x_5\n",
       "End"
      ]
     },
     "execution_count": 4,
     "metadata": {},
     "output_type": "execute_result"
    }
   ],
   "source": [
    "q = 0.50                   #  risk appetite \n",
    "budget = num_assets  //2   #  stocks to allocate\n",
    "penalty = num_assets       #  set parameter to scale the budget penalty term\n",
    "bounds = None              #  Allocation percent: None: 100%\n",
    "\n",
    "portfolio = PortfolioOptimization(expected_returns=mu, covariances=sigma, risk_factor=q, budget=budget,bounds=bounds)\n",
    "qp = portfolio.to_quadratic_program()\n",
    "qp"
   ]
  },
  {
   "cell_type": "code",
   "execution_count": null,
   "metadata": {
    "ExecuteTime": {
     "end_time": "2020-07-13T20:35:15.243604Z",
     "start_time": "2020-07-13T20:35:15.233567Z"
    }
   },
   "outputs": [],
   "source": []
  },
  {
   "cell_type": "markdown",
   "metadata": {
    "tags": []
   },
   "source": [
    "## Solution using VQE\n",
    "We can now use the Variational Quantum Eigensolver (VQE) to solve the problem. We will specify the optimizer and variational form to be used.\n",
    "\n",
    "Note: You can switch to different backends by providing the name of backend."
   ]
  },
  {
   "cell_type": "code",
   "execution_count": 5,
   "metadata": {
    "ExecuteTime": {
     "end_time": "2020-07-13T20:35:26.536878Z",
     "start_time": "2020-07-13T20:35:24.379996Z"
    }
   },
   "outputs": [
    {
     "name": "stderr",
     "output_type": "stream",
     "text": [
      "/opt/conda/lib/python3.8/site-packages/sympy/core/expr.py:3949: SymPyDeprecationWarning: \n",
      "\n",
      "expr_free_symbols method has been deprecated since SymPy 1.9. See\n",
      "https://github.com/sympy/sympy/issues/21494 for more info.\n",
      "\n",
      "  SymPyDeprecationWarning(feature=\"expr_free_symbols method\",\n"
     ]
    },
    {
     "name": "stdout",
     "output_type": "stream",
     "text": [
      "Optimal: selection [0. 1. 0. 1. 0. 1.], value -0.0049\n",
      "\n",
      "----------------- Full result ---------------------\n",
      "selection\tvalue\t\tprobability\n",
      "---------------------------------------------------\n",
      "[0 0 1 1 0 1]\t-0.0038\t\t0.5097\n",
      "[0 1 0 1 0 1]\t-0.0049\t\t0.2816\n",
      "[0 0 0 1 1 1]\t-0.0038\t\t0.1648\n",
      "[0 0 1 1 1 0]\t-0.0037\t\t0.0278\n",
      "[0 0 1 0 1 1]\t-0.0025\t\t0.0050\n",
      "[0 1 1 1 0 0]\t-0.0047\t\t0.0047\n",
      "[0 1 1 0 0 1]\t-0.0038\t\t0.0022\n",
      "[0 1 0 1 1 0]\t-0.0047\t\t0.0013\n",
      "[0 1 0 0 1 1]\t-0.0039\t\t0.0007\n",
      "[1 0 1 1 0 0]\t-0.0028\t\t0.0005\n",
      "[0 0 1 0 1 0]\t1.0126\t\t0.0004\n",
      "[1 0 0 1 1 1]\t1.0108\t\t0.0001\n",
      "[0 1 0 0 0 0]\t4.0547\t\t0.0001\n",
      "[0 0 0 0 1 1]\t1.0123\t\t0.0001\n",
      "[0 1 1 0 0 0]\t1.0112\t\t0.0001\n",
      "[1 1 0 1 0 0]\t-0.0039\t\t0.0001\n",
      "[1 0 1 1 1 0]\t1.0110\t\t0.0001\n",
      "[0 1 1 0 1 1]\t1.0100\t\t0.0001\n",
      "[1 0 0 1 0 1]\t-0.0031\t\t0.0001\n",
      "[0 0 0 0 1 0]\t4.0561\t\t0.0001\n",
      "[0 1 1 1 1 0]\t1.0092\t\t0.0000\n",
      "[1 1 1 1 1 0]\t4.0525\t\t0.0000\n",
      "[0 1 0 1 0 0]\t1.0101\t\t0.0000\n",
      "[1 0 1 0 1 0]\t-0.0014\t\t0.0000\n",
      "[1 0 0 1 1 0]\t-0.0029\t\t0.0000\n",
      "[1 0 1 0 0 1]\t-0.0016\t\t0.0000\n",
      "[0 0 0 0 0 0]\t9.1283\t\t0.0000\n",
      "[1 0 1 1 0 1]\t1.0108\t\t0.0000\n",
      "[0 1 0 1 1 1]\t1.0091\t\t0.0000\n",
      "[1 1 1 0 0 0]\t-0.0027\t\t0.0000\n",
      "[1 1 1 1 0 0]\t1.0100\t\t0.0000\n",
      "[0 0 1 0 0 1]\t1.0124\t\t0.0000\n",
      "[1 0 1 0 1 1]\t1.0121\t\t0.0000\n",
      "[1 1 0 1 0 1]\t1.0098\t\t0.0000\n",
      "[1 1 0 0 0 1]\t-0.0030\t\t0.0000\n",
      "[0 0 0 1 0 1]\t1.0109\t\t0.0000\n",
      "[1 0 1 0 0 0]\t1.0135\t\t0.0000\n",
      "[0 1 0 0 0 1]\t1.0110\t\t0.0000\n",
      "[0 0 0 1 1 0]\t1.0111\t\t0.0000\n",
      "[0 0 0 0 0 1]\t4.0558\t\t0.0000\n",
      "[0 1 1 1 0 1]\t1.0091\t\t0.0000\n",
      "[1 1 0 0 0 0]\t1.0121\t\t0.0000\n",
      "[0 1 0 0 1 0]\t1.0112\t\t0.0000\n",
      "[1 0 0 0 1 0]\t1.0134\t\t0.0000\n",
      "[1 0 1 1 1 1]\t4.0534\t\t0.0000\n",
      "[1 1 1 0 1 1]\t4.0533\t\t0.0000\n",
      "[0 0 1 1 0 0]\t1.0112\t\t0.0000\n",
      "[1 1 1 0 0 1]\t1.0109\t\t0.0000\n",
      "[1 1 1 1 1 1]\t9.1237\t\t0.0000\n",
      "[1 1 0 1 1 0]\t1.0100\t\t0.0000\n",
      "[1 0 0 0 0 0]\t4.0570\t\t0.0000\n",
      "[1 1 0 1 1 1]\t4.0524\t\t0.0000\n",
      "[1 0 0 0 1 1]\t-0.0017\t\t0.0000\n",
      "[0 0 1 0 0 0]\t4.0562\t\t0.0000\n",
      "[1 1 1 1 0 1]\t4.0524\t\t0.0000\n",
      "[1 1 0 0 1 1]\t1.0108\t\t0.0000\n",
      "[0 1 1 0 1 0]\t-0.0036\t\t0.0000\n",
      "[1 1 1 0 1 0]\t1.0110\t\t0.0000\n",
      "[0 0 1 1 1 1]\t1.0101\t\t0.0000\n",
      "[1 1 0 0 1 0]\t-0.0028\t\t0.0000\n",
      "[1 0 0 1 0 0]\t1.0120\t\t0.0000\n",
      "[0 1 1 1 1 1]\t4.0517\t\t0.0000\n",
      "[1 0 0 0 0 1]\t1.0132\t\t0.0000\n",
      "[0 0 0 1 0 0]\t4.0546\t\t0.0000\n"
     ]
    }
   ],
   "source": [
    "algorithm_globals.random_seed = seed+1\n",
    "backend = Aer.get_backend('statevector_simulator')\n",
    "\n",
    "\n",
    "cobyla = COBYLA()\n",
    "cobyla.set_options(maxiter=500)\n",
    "\n",
    "ry = TwoLocal(num_assets, 'ry', 'cz', reps=3, entanglement='full')\n",
    "\n",
    "quantum_instance = QuantumInstance(backend=backend, seed_simulator=seed, seed_transpiler=seed)\n",
    "\n",
    "vqe_mes = VQE(ry, optimizer=cobyla, quantum_instance=quantum_instance)\n",
    "vqe = MinimumEigenOptimizer(vqe_mes)\n",
    "\n",
    "result = vqe.solve(qp)\n",
    "\n",
    "\n",
    "# print(result.fval)\n",
    "print_result(result)"
   ]
  },
  {
   "cell_type": "code",
   "execution_count": 6,
   "metadata": {},
   "outputs": [
    {
     "name": "stdout",
     "output_type": "stream",
     "text": [
      "Stocks from our Qunatum Stock Picking algorthm selected: ['AMD', 'NVDA', 'MSFT']\n"
     ]
    }
   ],
   "source": [
    "selected_stocks = list(np.array(stocks)[result.x.astype('bool')])\n",
    "print(f\"Stocks from our Qunatum Stock Picking algorthm selected: {selected_stocks}\")"
   ]
  },
  {
   "cell_type": "markdown",
   "metadata": {},
   "source": [
    "### Student todo, complete an equity curve, CAGR and IR comparison for the portfolio of all the stocks you selected for optimization compared to one which your Quantum Stock picker put together\n",
    "\n",
    "hints:\n",
    "\n",
    "\n",
    "df[selected_stocks] contains a data frame with your stock pick prices.   \n",
    "df is the full list of stocks you started with."
   ]
  },
  {
   "cell_type": "code",
   "execution_count": 7,
   "metadata": {},
   "outputs": [
    {
     "name": "stdout",
     "output_type": "stream",
     "text": [
      "IR selection:                    AMD        NVDA        MSFT\n",
      "Date                                          \n",
      "2015-01-02    2.670000    4.840063   41.193844\n",
      "2015-01-05    2.660000    4.758313   40.815029\n",
      "2015-01-06    2.630000    4.614048   40.215977\n",
      "2015-01-07    2.580000    4.602026   40.726925\n",
      "2015-01-08    2.610000    4.775146   41.925037\n",
      "...                ...         ...         ...\n",
      "2021-11-23  149.919998  317.459991  337.679993\n",
      "2021-11-24  157.800003  326.739990  337.910004\n",
      "2021-11-26  154.809998  315.029999  329.679993\n",
      "2021-11-29  161.910004  333.760010  336.630005\n",
      "2021-11-30  158.369995  326.760010  330.589996\n",
      "\n",
      "[1741 rows x 3 columns]\n",
      "IR all:                    AMD        NVDA        MSFT\n",
      "Date                                          \n",
      "2015-01-02    2.670000    4.840063   41.193844\n",
      "2015-01-05    2.660000    4.758313   40.815029\n",
      "2015-01-06    2.630000    4.614048   40.215977\n",
      "2015-01-07    2.580000    4.602026   40.726925\n",
      "2015-01-08    2.610000    4.775146   41.925037\n",
      "...                ...         ...         ...\n",
      "2021-11-23  149.919998  317.459991  337.679993\n",
      "2021-11-24  157.800003  326.739990  337.910004\n",
      "2021-11-26  154.809998  315.029999  329.679993\n",
      "2021-11-29  161.910004  333.760010  336.630005\n",
      "2021-11-30  158.369995  326.760010  330.589996\n",
      "\n",
      "[1741 rows x 3 columns] \n",
      "\n",
      "CAGR selection:                AMD    NVDA    MSFT\n",
      "Date                              \n",
      "2015-01-02    2.67    4.84   41.19\n",
      "2015-01-05    2.66    4.76   40.82\n",
      "2015-01-06    2.63    4.61   40.22\n",
      "2015-01-07    2.58    4.60   40.73\n",
      "2015-01-08    2.61    4.78   41.93\n",
      "...            ...     ...     ...\n",
      "2021-11-23  149.92  317.46  337.68\n",
      "2021-11-24  157.80  326.74  337.91\n",
      "2021-11-26  154.81  315.03  329.68\n",
      "2021-11-29  161.91  333.76  336.63\n",
      "2021-11-30  158.37  326.76  330.59\n",
      "\n",
      "[1741 rows x 3 columns]%\n",
      "CAGR all:                AMD    NVDA    MSFT\n",
      "Date                              \n",
      "2015-01-02    2.67    4.84   41.19\n",
      "2015-01-05    2.66    4.76   40.82\n",
      "2015-01-06    2.63    4.61   40.22\n",
      "2015-01-07    2.58    4.60   40.73\n",
      "2015-01-08    2.61    4.78   41.93\n",
      "...            ...     ...     ...\n",
      "2021-11-23  149.92  317.46  337.68\n",
      "2021-11-24  157.80  326.74  337.91\n",
      "2021-11-26  154.81  315.03  329.68\n",
      "2021-11-29  161.91  333.76  336.63\n",
      "2021-11-30  158.37  326.76  330.59\n",
      "\n",
      "[1741 rows x 3 columns]%\n"
     ]
    }
   ],
   "source": [
    "df[selected_stocks]\n",
    "df\n",
    "#...\n",
    "#todo\n",
    "\n",
    "print(f\"IR selection: {df[selected_stocks]}\")\n",
    "print(f\"IR all: {df[selected_stocks]} \\n\")\n",
    "\n",
    "\n",
    "print(f\"CAGR selection: {round(df[selected_stocks],2)}%\")\n",
    "print(f\"CAGR all: {round(df[selected_stocks],2)}%\")\n",
    "\n"
   ]
  },
  {
   "cell_type": "markdown",
   "metadata": {},
   "source": [
    "# (Optional) For Advanced Students:\n",
    "\n",
    "## Here we will make some modifications to do portfolio optimization\n",
    "\n",
    "\n",
    "This tutorial shows how to solve the following mean-variance portfolio optimization problem for $n$ assets:\n",
    "\n",
    "$$\\begin{aligned}\n",
    "\\min_{x \\in \\{j ... k\\}^n}  q x^T \\Sigma x - \\mu^T x\\\\\n",
    "\\text{subject to: } 1^T x = B\n",
    "\\end{aligned}$$\n",
    "\n",
    "where we use the following notation:\n",
    "\n",
    "- $x \\in \\{-j, +k\\}^n$ denotes the vector of weight allocation variables, which indicate the relative allocation to assign. \n",
    "- $\\mu \\in \\mathbb{R}^n$ defines the expected returns for the assets,\n",
    "- $\\Sigma \\in \\mathbb{R}^{n \\times n}$ specifies the covariances between the assets,\n",
    "- $q > 0$ controls the risk appetite of the decision maker,\n",
    "- and $B$ denotes the budget, i.e. the number of assets to be selected out of $n$.\n",
    "\n",
    "We assume the following simplifications:\n",
    "- all assets have the same price (normalized to 1),\n",
    "- the full budget $B$ has to be spent, i.e. one has to allocate exactly $B$ relative amounts of asset.\n",
    "\n",
    "The equality constraint $1^T x = B$ is mapped to a penalty term $(1^T x - B)^2$ which is scaled by a parameter and subtracted from the objective function. \n",
    "The resulting problem can be mapped to a Hamiltonian whose ground state corresponds to  the optimal solution.\n",
    "This rest of this notebook shows how to use the Variational Quantum Eigensolver (VQE) an optimal solution for a given set of parameters."
   ]
  },
  {
   "cell_type": "code",
   "execution_count": 8,
   "metadata": {},
   "outputs": [
    {
     "data": {
      "text/plain": [
       "\\ This file has been generated by DOcplex\n",
       "\\ ENCODING=ISO-8859-1\n",
       "\\Problem name: Portfolio optimization\n",
       "\n",
       "Minimize\n",
       " obj: - 0.000134698721 x_0 - 0.003067398043 x_1 - 0.000981014017 x_2\n",
       "      - 0.002826157609 x_3 - 0.001104270424 x_4 - 0.001341654330 x_5 + [\n",
       "      0.000246031819 x_0^2 + 0.000328645296 x_0*x_1 + 0.000278135339 x_0*x_2\n",
       "      + 0.000318236972 x_0*x_3 + 0.000238494290 x_0*x_4 + 0.000266832039 x_0*x_5\n",
       "      + 0.001481014845 x_1^2 + 0.000361593246 x_1*x_2 + 0.001122190667 x_1*x_3\n",
       "      + 0.000400777133 x_1*x_4 + 0.000460746488 x_1*x_5 + 0.000224054022 x_2^2\n",
       "      + 0.000396295523 x_2*x_3 + 0.000292350954 x_2*x_4 + 0.000340237551 x_2*x_5\n",
       "      + 0.000812001108 x_3^2 + 0.000487696652 x_3*x_4 + 0.000566246329 x_3*x_5\n",
       "      + 0.000279295625 x_4^2 + 0.000412652064 x_4*x_5 + 0.000288451066 x_5^2 ]/2\n",
       "Subject To\n",
       " c0: x_0 + x_1 + x_2 + x_3 + x_4 + x_5 = 6\n",
       "\n",
       "Bounds\n",
       "       x_0 <= 3\n",
       "       x_1 <= 3\n",
       "       x_2 <= 3\n",
       "       x_3 <= 3\n",
       "       x_4 <= 3\n",
       "       x_5 <= 3\n",
       "\n",
       "Generals\n",
       " x_0 x_1 x_2 x_3 x_4 x_5\n",
       "End"
      ]
     },
     "execution_count": 8,
     "metadata": {},
     "output_type": "execute_result"
    }
   ],
   "source": [
    "\n",
    "q = 0.50                   #  risk appetite \n",
    "budget = num_assets        #  Units to allocate\n",
    "penalty = num_assets //2   #  set parameter to scale the budget penalty term\n",
    "bounds = [(0,3)]*num_assets  #  Allocation units, can be negative or positive\n",
    "\n",
    "\n",
    "portfolio = PortfolioOptimization(expected_returns=mu, covariances=sigma, risk_factor=q, budget=budget,bounds=bounds)\n",
    "qp = portfolio.to_quadratic_program()\n",
    "qp"
   ]
  },
  {
   "cell_type": "code",
   "execution_count": 9,
   "metadata": {},
   "outputs": [
    {
     "name": "stderr",
     "output_type": "stream",
     "text": [
      "/opt/conda/lib/python3.8/site-packages/sympy/core/expr.py:3949: SymPyDeprecationWarning: \n",
      "\n",
      "expr_free_symbols method has been deprecated since SymPy 1.9. See\n",
      "https://github.com/sympy/sympy/issues/21494 for more info.\n",
      "\n",
      "  SymPyDeprecationWarning(feature=\"expr_free_symbols method\",\n",
      "/opt/conda/lib/python3.8/site-packages/qiskit_optimization/algorithms/optimization_algorithm.py:141: UserWarning: The sum of probability of samples is not close to 1: f{sum_prob}\n",
      "  warn(\"The sum of probability of samples is not close to 1: f{sum_prob}\")\n"
     ]
    }
   ],
   "source": [
    "algorithm_globals.random_seed = seed+1\n",
    "backend = Aer.get_backend('statevector_simulator')\n",
    "\n",
    "\n",
    "cobyla = COBYLA()\n",
    "cobyla.set_options(maxiter=500)\n",
    "\n",
    "ry = TwoLocal(num_assets, 'ry', 'cz', reps=3, entanglement='full')\n",
    "\n",
    "quantum_instance = QuantumInstance(backend=backend, seed_simulator=seed, seed_transpiler=seed)\n",
    "\n",
    "vqe_mes = VQE(ry, optimizer=cobyla, quantum_instance=quantum_instance)\n",
    "vqe = MinimumEigenOptimizer(vqe_mes)\n",
    "\n",
    "result = vqe.solve(qp)"
   ]
  },
  {
   "cell_type": "code",
   "execution_count": 10,
   "metadata": {},
   "outputs": [],
   "source": [
    "allocations = pandas.DataFrame({f\"{stocks[tidx]}\":result.x[tidx] for tidx in range(len(stocks))},index=['Allocation'])"
   ]
  },
  {
   "cell_type": "markdown",
   "metadata": {},
   "source": [
    "### Student todo, complete an equity curve, CAGR and IR comparison for the a portfolio of all the stocks you selected for optimization compared to one which your Quantum Portfolio Optimzer put together.\n",
    "\n",
    "hints:\n",
    "\n",
    "\n",
    "The variable allocations contains a DataFrame with your relative stock allocations.   \n",
    "df is the full list of stocks you started with."
   ]
  },
  {
   "cell_type": "code",
   "execution_count": 14,
   "metadata": {},
   "outputs": [
    {
     "name": "stdout",
     "output_type": "stream",
     "text": [
      "IR Selection: 1.6699019744885595\n",
      "IR All: 1.5317584983617136 \n",
      "\n",
      "CAGR Selection: 171.12%\n"
     ]
    },
    {
     "data": {
      "image/png": "[encoded data removed]",
      "text/plain": [
       "<Figure size 432x288 with 1 Axes>"
      ]
     },
     "metadata": {
      "needs_background": "light"
     },
     "output_type": "display_data"
    }
   ],
   "source": [
    "sel = df[selected_stocks]\n",
    "all = df\n",
    "returns = sel.pct_change().dropna().mean(axis=1)\n",
    "returns_all = all.pct_change().dropna().mean(axis=1)\n",
    "m_all = 10000 * (returns_all+1).cumprod()\n",
    "m_sel = 10000 * (returns+1).cumprod()\n",
    "m_sel.plot()\n",
    "m_all.plot()\n",
    "plt.legend(['Selection','all'])\n",
    "print(f\"IR Selection: {(returns.mean()/returns.std())*np.sqrt(252)}\")\n",
    "print(f\"IR All: {(returns_all.mean()/returns_all.std())*np.sqrt(252)} \\n\")\n",
    "# print(f\"CAGR selection: {round(((1+(m_sel.iloc[-1]/10000))**(1/len(df)/252)}%\")\n",
    "# print(f\"CAGR all: {round((1+(m_all.iloc[-1]/10000))**(1/len(df)/252)),4)}%\")\n",
    "print(f\"CAGR Selection: {round(100*((m_sel.iloc[-1]/10000)-1)**(1/(len(df)/252)),2)}%\")\n"
   ]
  }
 ],
 "metadata": {
  "celltoolbar": "Tags",
  "kernelspec": {
   "display_name": "Qiskit v0.32.1 (ipykernel)",
   "language": "python",
   "name": "python3"
  },
  "language_info": {
   "codemirror_mode": {
    "name": "ipython",
    "version": 3
   },
   "file_extension": ".py",
   "mimetype": "text/x-python",
   "name": "python",
   "nbconvert_exporter": "python",
   "pygments_lexer": "ipython3",
   "version": "3.8.10"
  },
  "varInspector": {
   "cols": {
    "lenName": 16,
    "lenType": 16,
    "lenVar": 40
   },
   "kernels_config": {
    "python": {
     "delete_cmd_postfix": "",
     "delete_cmd_prefix": "del ",
     "library": "var_list.py",
     "varRefreshCmd": "print(var_dic_list())"
    },
    "r": {
     "delete_cmd_postfix": ") ",
     "delete_cmd_prefix": "rm(",
     "library": "var_list.r",
     "varRefreshCmd": "cat(var_dic_list()) "
    }
   },
   "types_to_exclude": [
    "module",
    "function",
    "builtin_function_or_method",
    "instance",
    "_Feature"
   ],
   "window_display": false
  },
  "widgets": {
   "application/vnd.jupyter.widget-state+json": {
    "state": {},
    "version_major": 2,
    "version_minor": 0
   }
  }
 },
 "nbformat": 4,
 "nbformat_minor": 4
}
